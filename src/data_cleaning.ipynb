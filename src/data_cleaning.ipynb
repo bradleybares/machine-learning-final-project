{
 "cells": [
  {
   "cell_type": "code",
   "execution_count": 38,
   "metadata": {},
   "outputs": [],
   "source": [
    "import pandas as pd"
   ]
  },
  {
   "cell_type": "code",
   "execution_count": 39,
   "metadata": {},
   "outputs": [],
   "source": [
    "df_original = pd.read_csv('../data/fy2023-property-assessment-data.csv')"
   ]
  },
  {
   "cell_type": "code",
   "execution_count": 40,
   "metadata": {},
   "outputs": [],
   "source": [
    "# Remove duplicate parcels\n",
    "df_cleaned = df_original.drop_duplicates(subset=['PID'], keep=False)"
   ]
  },
  {
   "cell_type": "code",
   "execution_count": 41,
   "metadata": {},
   "outputs": [],
   "source": [
    "# Remove rows with 0 TOTAL_VALUE\n",
    "df_cleaned = df_cleaned[df_cleaned['TOTAL_VALUE'] != 0]"
   ]
  },
  {
   "cell_type": "code",
   "execution_count": null,
   "metadata": {},
   "outputs": [],
   "source": []
  },
  {
   "cell_type": "code",
   "execution_count": 42,
   "metadata": {},
   "outputs": [],
   "source": [
    "# Remove Condo Parking Spaces (LU = CP)\n",
    "df_cleaned = df_cleaned[df_cleaned['LU'] != 'CP']"
   ]
  },
  {
   "cell_type": "code",
   "execution_count": 43,
   "metadata": {},
   "outputs": [],
   "source": [
    "# Remove unnecessary columns\n",
    "df_cleaned = df_cleaned.drop(columns=['PID', 'CM_ID', 'GIS_ID', 'ST_NUM', 'ST_NAME', 'UNIT_NUM', 'BLDG_SEQ', 'NUM_BLDGS', 'OWN_OCC', 'OWNER', 'OWNER MAIL ADDRESS', 'RES_FLOOR', 'CD_FLOOR', 'RES_UNITS', 'COM_UNITS', 'RC_UNITS', 'LIVING_AREA', 'LAND_VALUE', 'BLDG_VALUE', 'GROSS_TAX', 'BTHRM_STYLE1', 'BTHRM_STYLE2', 'BTHRM_STYLE3', 'KITCHEN_STYLE1', 'KITCHEN_STYLE2', 'KITCHEN_STYLE3'])"
   ]
  },
  {
   "cell_type": "code",
   "execution_count": 47,
   "metadata": {},
   "outputs": [],
   "source": [
    "df_cleaned = df_cleaned.drop(columns=['STRUCTURE_CLASS', 'ORIENTATION', 'CORNER_UNIT'])"
   ]
  },
  {
   "cell_type": "code",
   "execution_count": 48,
   "metadata": {},
   "outputs": [
    {
     "data": {
      "text/html": [
       "<div>\n",
       "<style scoped>\n",
       "    .dataframe tbody tr th:only-of-type {\n",
       "        vertical-align: middle;\n",
       "    }\n",
       "\n",
       "    .dataframe tbody tr th {\n",
       "        vertical-align: top;\n",
       "    }\n",
       "\n",
       "    .dataframe thead th {\n",
       "        text-align: right;\n",
       "    }\n",
       "</style>\n",
       "<table border=\"1\" class=\"dataframe\">\n",
       "  <thead>\n",
       "    <tr style=\"text-align: right;\">\n",
       "      <th></th>\n",
       "      <th>NA_Count</th>\n",
       "      <th>Type</th>\n",
       "    </tr>\n",
       "  </thead>\n",
       "  <tbody>\n",
       "  </tbody>\n",
       "</table>\n",
       "</div>"
      ],
      "text/plain": [
       "Empty DataFrame\n",
       "Columns: [NA_Count, Type]\n",
       "Index: []"
      ]
     },
     "execution_count": 48,
     "metadata": {},
     "output_type": "execute_result"
    }
   ],
   "source": [
    "# Create a meta dataframe\n",
    "meta_df = pd.concat([df_cleaned.isna().sum(), df_cleaned.dtypes], axis=1, keys=['NA_Count', 'Type'])\n",
    "\n",
    "# Remove rows with no NA values\n",
    "meta_df[meta_df['NA_Count'] != 0]"
   ]
  },
  {
   "cell_type": "code",
   "execution_count": 49,
   "metadata": {},
   "outputs": [],
   "source": [
    "# If the NA count is not 0, then we need to fill in the NA values\n",
    "# We will fill in the NA values with -1 if the column is numeric\n",
    "# and with 'NA' if the column is a string\n",
    "for col in meta_df[meta_df['NA_Count'] != 0].index:\n",
    "    if meta_df.loc[col, 'Type'] == 'object':\n",
    "        df_cleaned[col] = df_cleaned[col].fillna('NA - Not Available or Not Applicable')\n",
    "    else:\n",
    "        df_cleaned[col] = df_cleaned[col].fillna(-1)"
   ]
  },
  {
   "cell_type": "code",
   "execution_count": 50,
   "metadata": {},
   "outputs": [],
   "source": [
    "# Save the cleaned dataframe to a csv file\n",
    "df_cleaned.to_csv('../data/cleaned/fy2023-property-assessment-data-cleaned.csv', index=False)"
   ]
  }
 ],
 "metadata": {
  "kernelspec": {
   "display_name": ".venv",
   "language": "python",
   "name": "python3"
  },
  "language_info": {
   "codemirror_mode": {
    "name": "ipython",
    "version": 3
   },
   "file_extension": ".py",
   "mimetype": "text/x-python",
   "name": "python",
   "nbconvert_exporter": "python",
   "pygments_lexer": "ipython3",
   "version": "3.10.2"
  },
  "orig_nbformat": 4
 },
 "nbformat": 4,
 "nbformat_minor": 2
}
