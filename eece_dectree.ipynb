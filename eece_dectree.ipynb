{
 "cells": [
  {
   "cell_type": "code",
   "execution_count": 60,
   "id": "2574f4ef-d88b-49ad-b855-e084449584fb",
   "metadata": {
    "tags": []
   },
   "outputs": [],
   "source": [
    "import pandas as pd\n",
    "from sklearn import preprocessing\n",
    "from sklearn.impute import SimpleImputer as simp\n",
    "from sklearn.model_selection import train_test_split as tts\n",
    "from sklearn import tree"
   ]
  },
  {
   "cell_type": "code",
   "execution_count": 61,
   "id": "16900a1d-a35d-4ca2-bd79-d0c51bea6d38",
   "metadata": {
    "tags": []
   },
   "outputs": [
    {
     "data": {
      "text/plain": [
       "PID                        0\n",
       "CM_ID                  89467\n",
       "GIS_ID                     0\n",
       "ST_NUM                  9531\n",
       "ST_NAME                    0\n",
       "UNIT_NUM               99955\n",
       "CITY                       5\n",
       "ZIP_CODE                   3\n",
       "BLDG_SEQ                   1\n",
       "NUM_BLDGS                  0\n",
       "LUC                        0\n",
       "LU                         0\n",
       "LU_DESC                    0\n",
       "BLDG_TYPE               2526\n",
       "OWN_OCC                    0\n",
       "OWNER                      0\n",
       "OWNER MAIL ADDRESS         1\n",
       "RES_FLOOR              33505\n",
       "CD_FLOOR              110071\n",
       "RES_UNITS             170297\n",
       "COM_UNITS             180004\n",
       "RC_UNITS              180590\n",
       "LAND_SF                 7545\n",
       "GROSS_AREA             34633\n",
       "LIVING_AREA            34923\n",
       "LAND_VALUE                 0\n",
       "BLDG_VALUE                 0\n",
       "TOTAL_VALUE                0\n",
       "GROSS_TAX                  0\n",
       "YR_BUILT               22930\n",
       "YR_REMODEL             95227\n",
       "STRUCTURE_CLASS       163567\n",
       "ROOF_STRUCTURE         36420\n",
       "ROOF_COVER             36418\n",
       "INT_WALL               48266\n",
       "EXT_FNISHED            23021\n",
       "INT_COND               48265\n",
       "EXT_COND               36383\n",
       "OVERALL_COND            9459\n",
       "BED_RMS                48287\n",
       "FULL_BTH               11116\n",
       "HLF_BTH                10964\n",
       "KITCHENS               11114\n",
       "TT_RMS                 48354\n",
       "BDRM_COND             110157\n",
       "BTHRM_STYLE1           48098\n",
       "BTHRM_STYLE2           95620\n",
       "BTHRM_STYLE3          144361\n",
       "KITCHEN_TYPE           48116\n",
       "KITCHEN_STYLE1         48102\n",
       "KITCHEN_STYLE2        148812\n",
       "KITCHEN_STYLE3        166554\n",
       "HEAT_TYPE              47845\n",
       "HEAT_FUEL             109815\n",
       "AC_TYPE                47859\n",
       "FIREPLACES             10961\n",
       "ORIENTATION           109848\n",
       "NUM_PARKING            48200\n",
       "PROP_VIEW              46762\n",
       "CORNER_UNIT           109836\n",
       "dtype: int64"
      ]
     },
     "execution_count": 61,
     "metadata": {},
     "output_type": "execute_result"
    }
   ],
   "source": [
    "boston_data = pd.read_csv(r'C:\\Users\\Sean\\Desktop\\EECE_FINAL\\fy2023-property-assessment-data.csv')\n",
    "boston_data.isna().sum()"
   ]
  },
  {
   "cell_type": "code",
   "execution_count": 62,
   "id": "35f99fc9-22ac-41ec-bcdf-13364f494118",
   "metadata": {
    "tags": []
   },
   "outputs": [
    {
     "name": "stdout",
     "output_type": "stream",
     "text": [
      "2143052600\n"
     ]
    },
    {
     "data": {
      "text/plain": [
       "e    38054\n",
       "b    37118\n",
       "d    35532\n",
       "a    30465\n",
       "c    28910\n",
       "Name: segment_cost, dtype: int64"
      ]
     },
     "execution_count": 62,
     "metadata": {},
     "output_type": "execute_result"
    }
   ],
   "source": [
    "#This is the create classes for dec_tree\n",
    "#land_value+building_value=total_value\n",
    "#gross_tax is also really easy to get total_value\n",
    "b_max = boston_data['TOTAL_VALUE'].max()\n",
    "print(b_max)\n",
    "segments = pd.IntervalIndex.from_tuples([(0,333333),(333334,666666),(666667,999999),(1000000,5000000),(5000001,b_max+1)])\n",
    "boston_data['segment_cost'] = pd.cut(boston_data['TOTAL_VALUE'], [0,350000,550000,700000,1000000,b_max+1], labels=['a','b','c','d','e'], ordered = False)\n",
    "boston_data['segment_cost'].head()\n",
    "boston_data.segment_cost.value_counts()"
   ]
  },
  {
   "cell_type": "code",
   "execution_count": 63,
   "id": "34059305-cd69-445e-9278-b284c15d78d4",
   "metadata": {
    "tags": []
   },
   "outputs": [],
   "source": [
    "#Preprocessing features\n",
    "le = preprocessing.LabelEncoder()\n",
    "boston_data['ROOF_STRUCTURE'] = le.fit_transform(boston_data['ROOF_STRUCTURE'])\n",
    "boston_data['ROOF_COVER'] = le.fit_transform(boston_data['ROOF_COVER'])\n",
    "boston_data['INT_WALL'] = le.fit_transform(boston_data['INT_WALL'])\n",
    "boston_data['EXT_FNISHED'] = le.fit_transform(boston_data['EXT_FNISHED'])\n",
    "boston_data['INT_COND'] = le.fit_transform(boston_data['INT_COND'])\n",
    "boston_data['EXT_COND'] = le.fit_transform(boston_data['EXT_COND'])\n",
    "boston_data['OVERALL_COND'] = le.fit_transform(boston_data['OVERALL_COND'])\n",
    "boston_data['ST_NAME'] = le.fit_transform(boston_data['ST_NAME'])\n",
    "boston_data['CITY'] = le.fit_transform(boston_data['CITY'])\n",
    "boston_data['OWNER MAIL ADDRESS'] = le.fit_transform(boston_data['OWNER MAIL ADDRESS'])\n",
    "boston_data['LU'] = le.fit_transform(boston_data['LU'])\n",
    "boston_data['LU_DESC'] = le.fit_transform(boston_data['LU_DESC'])\n",
    "boston_data['BLDG_TYPE'] = le.fit_transform(boston_data['BLDG_TYPE'])\n",
    "boston_data['OWN_OCC'] = le.fit_transform(boston_data['OWN_OCC'])\n",
    "boston_data['KITCHEN_TYPE'] = le.fit_transform(boston_data['KITCHEN_TYPE'])\n",
    "\n",
    "\n",
    "boston_data['ROOF_STRUCTURE'] = boston_data['ROOF_STRUCTURE'].fillna(0)\n",
    "boston_data['ROOF_COVER'] = boston_data['ROOF_COVER'].fillna(0)\n",
    "boston_data['INT_WALL'] = boston_data['INT_WALL'].fillna(0)\n",
    "boston_data['EXT_FNISHED'] = boston_data['EXT_FNISHED'].fillna(0)\n",
    "boston_data['INT_COND'] = boston_data['INT_COND'].fillna(0)\n",
    "boston_data['EXT_COND'] = boston_data['EXT_COND'].fillna(0)\n",
    "boston_data['OVERALL_COND'] = boston_data['OVERALL_COND'].fillna(0)\n",
    "boston_data['FIREPLACES'] = boston_data['FIREPLACES'].fillna(0)\n",
    "boston_data['NUM_PARKING'] = boston_data['NUM_PARKING'].fillna(0)\n",
    "boston_data['BED_RMS'] = boston_data['BED_RMS'].fillna(0)\n",
    "boston_data['FULLBTH'] = boston_data['FULL_BTH'].fillna(0)\n",
    "boston_data['HLF_BTH'] = boston_data['HLF_BTH'].fillna(0)\n",
    "boston_data['KITCHENS'] = boston_data['KITCHENS'].fillna(0)\n",
    "boston_data['TT_RMS'] = boston_data['TT_RMS'].fillna(0)\n",
    "boston_data['YR_BUILT'] = boston_data['YR_BUILT'].fillna(0)\n",
    "boston_data['YR_REMODEL'] = boston_data['YR_REMODEL'].fillna(0)\n",
    "boston_data['ZIP_CODE'] = boston_data['ZIP_CODE'].fillna(0)\n",
    "boston_data['BLDG_SEQ'] = boston_data['BLDG_SEQ'].fillna(0)\n",
    "boston_data['CITY'] = boston_data['CITY'].fillna(0)\n",
    "boston_data['OWNER MAIL ADDRESS'] = boston_data['OWNER MAIL ADDRESS'].fillna(0)\n",
    "boston_data['KITCHEN_TYPE'] = boston_data['KITCHEN_TYPE'].fillna(0)\n",
    "boston_data['FULL_BTH'] = boston_data['FULL_BTH'].fillna(0)\n",
    "\n",
    "b = boston_data['LAND_SF'].mean()\n",
    "b1 = boston_data['GROSS_AREA'].mean()\n",
    "b2 = boston_data['LIVING_AREA'].mean()\n",
    "boston_data['LAND_SF'] = boston_data['LAND_SF'].fillna(b)\n",
    "boston_data['GROSS_AREA'] = boston_data['GROSS_AREA'].fillna(b1)\n",
    "boston_data['LIVING_AREA'] = boston_data['LIVING_AREA'].fillna(b2)\n",
    "\n",
    "#THIS IS SKETCHY BUT MISSING Y VALUES\n",
    "#NEED TO FIGURE OUT WHY MY BUCKETING MISSED 10548 POINTS\n",
    "boston_data['segment_cost'] = boston_data['segment_cost'].fillna('a')"
   ]
  },
  {
   "cell_type": "code",
   "execution_count": 64,
   "id": "a4304c95-c2e7-4ca8-b24d-cba50f89f365",
   "metadata": {},
   "outputs": [],
   "source": [
    "#Multiclass dec tree construction\n",
    "X = boston_data[boston_data.columns.drop(['segment_cost', 'OWNER','CM_ID', 'GIS_ID', 'LAND_VALUE', 'TOTAL_VALUE','BLDG_VALUE','GROSS_TAX','ST_NUM','UNIT_NUM','RES_FLOOR',\n",
    "'CD_FLOOR','RES_UNITS','COM_UNITS','RC_UNITS','STRUCTURE_CLASS','BDRM_COND','BTHRM_STYLE1','BTHRM_STYLE2','BTHRM_STYLE3','KITCHEN_STYLE1','KITCHEN_STYLE2',\n",
    "'KITCHEN_STYLE3', 'HEAT_TYPE','HEAT_FUEL','AC_TYPE','ORIENTATION','PROP_VIEW','CORNER_UNIT'])]\n",
    "\n",
    "Y = boston_data['segment_cost']"
   ]
  },
  {
   "cell_type": "code",
   "execution_count": 65,
   "id": "9577269c-aae5-4d49-919d-4e06aa883f53",
   "metadata": {
    "tags": []
   },
   "outputs": [
    {
     "data": {
      "text/plain": [
       "0"
      ]
     },
     "execution_count": 65,
     "metadata": {},
     "output_type": "execute_result"
    }
   ],
   "source": [
    "Y.isna().sum()"
   ]
  },
  {
   "cell_type": "code",
   "execution_count": 66,
   "id": "1685fea5-fc68-40ba-8266-20a2c07a4248",
   "metadata": {
    "tags": []
   },
   "outputs": [
    {
     "name": "stdout",
     "output_type": "stream",
     "text": [
      "Accuracy on Test Set:  0.7652412693491596\n"
     ]
    }
   ],
   "source": [
    "X_train, X_test, y_train, y_test = tts(X,Y,test_size=.25,random_state=42)\n",
    "clf = tree.DecisionTreeClassifier(max_depth=12)\n",
    "clf1 = clf.fit(X_train, y_train)\n",
    "print('Accuracy on Test Set: ', clf1.score(X_test, y_test))"
   ]
  },
  {
   "cell_type": "code",
   "execution_count": null,
   "id": "89476bf7-a215-41b3-ae81-5c5c849a424e",
   "metadata": {},
   "outputs": [],
   "source": []
  }
 ],
 "metadata": {
  "kernelspec": {
   "display_name": "Python 3 (ipykernel)",
   "language": "python",
   "name": "python3"
  },
  "language_info": {
   "codemirror_mode": {
    "name": "ipython",
    "version": 3
   },
   "file_extension": ".py",
   "mimetype": "text/x-python",
   "name": "python",
   "nbconvert_exporter": "python",
   "pygments_lexer": "ipython3",
   "version": "3.9.5"
  }
 },
 "nbformat": 4,
 "nbformat_minor": 5
}
